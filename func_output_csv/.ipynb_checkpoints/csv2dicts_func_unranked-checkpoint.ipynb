{
 "cells": [
  {
   "cell_type": "markdown",
   "metadata": {},
   "source": [
    "# fmri CSV File generation (unranked version)"
   ]
  },
  {
   "cell_type": "code",
   "execution_count": 1,
   "metadata": {},
   "outputs": [],
   "source": [
    "import os\n",
    "import sys\n",
    "from os import path\n",
    "import numpy as np\n",
    "import csv\n",
    "import pandas as pd\n",
    "#import graspy"
   ]
  },
  {
   "cell_type": "code",
   "execution_count": 2,
   "metadata": {},
   "outputs": [],
   "source": [
    "def cal_G(path):\n",
    "    # Read in CSV file\n",
    "    csvFile = open(path, \"r\")\n",
    "    reader = csv.reader(csvFile)\n",
    "    result =[]\n",
    "    for item in reader:\n",
    "        result.append(item[0].split(\" \"))\n",
    "    csvFile.close()\n",
    "    \n",
    "    G = np.zeros((70, 70))\n",
    "    for i in range(len(result)):\n",
    "        G[int(result[i][0])-1][int(result[i][1])-1] = float(result[i][2])\n",
    "        G[int(result[i][1])-1][int(result[i][0])-1] = float(result[i][2])\n",
    "        #G = graspy.utils.pass_to_ranks(G, method='simple-nonzero')\n",
    "    return G"
   ]
  },
  {
   "cell_type": "code",
   "execution_count": 3,
   "metadata": {},
   "outputs": [],
   "source": [
    "dir = \"func_output_csv\"\n",
    "counter = 0\n",
    "d_total = {i:{} for i in range(0, 100)}"
   ]
  },
  {
   "cell_type": "code",
   "execution_count": 4,
   "metadata": {},
   "outputs": [],
   "source": [
    "for root, dirs, files in os.walk(dir, topdown=True):\n",
    "    #print('root:', root)\n",
    "    #print('dirs:', dirs)\n",
    "    #print('files:', files)\n",
    "    parts = root.split('/')\n",
    "    #print('parts:', parts)\n",
    "    #print('parts[-1]:', parts[-1])\n",
    "\n",
    "    if files:\n",
    "        #print('files:', files)\n",
    "        for file_name in files:\n",
    "            file_parts = file_name.split('.')\n",
    "            if file_parts[-1] == 'csv':\n",
    "                counter = counter + 1\n",
    "                #print('root:', root)\n",
    "                #print('dirs:', dirs)\n",
    "                #print('file_name:', file_name)\n",
    "                name_parts = file_name.split('_')\n",
    "                #print('file name:', name_parts)\n",
    "                file_path = root+\"/\"+file_name\n",
    "                #print('file path:', file_path)\n",
    "                G = cal_G(file_path)\n",
    "                d = {'Subject':name_parts[0].split('-')[-1],\n",
    "                     'Dataset':parts[1],\n",
    "                     'Session':name_parts[1].split('-')[-1],\n",
    "                     'G':G}\n",
    "                d_total[counter-1] = d\n",
    "                #print('root:', root)\n",
    "                #print('parts:', parts)\n",
    "                #print('counter:', counter, 'dict:', d)"
   ]
  },
  {
   "cell_type": "code",
   "execution_count": 5,
   "metadata": {},
   "outputs": [],
   "source": [
    "#print(counter)"
   ]
  },
  {
   "cell_type": "code",
   "execution_count": 6,
   "metadata": {},
   "outputs": [],
   "source": [
    "#print(d_total)"
   ]
  },
  {
   "cell_type": "code",
   "execution_count": 7,
   "metadata": {},
   "outputs": [],
   "source": [
    "dict_list = []\n",
    "for i in range(len(d_total)):\n",
    "    dict_list.append(d_total[i])\n",
    "    \n",
    "pd.DataFrame(dict_list).to_csv('Fmri_unranked.csv')"
   ]
  }
 ],
 "metadata": {
  "kernelspec": {
   "display_name": "Python 3",
   "language": "python",
   "name": "python3"
  },
  "language_info": {
   "codemirror_mode": {
    "name": "ipython",
    "version": 3
   },
   "file_extension": ".py",
   "mimetype": "text/x-python",
   "name": "python",
   "nbconvert_exporter": "python",
   "pygments_lexer": "ipython3",
   "version": "3.7.4"
  }
 },
 "nbformat": 4,
 "nbformat_minor": 2
}
